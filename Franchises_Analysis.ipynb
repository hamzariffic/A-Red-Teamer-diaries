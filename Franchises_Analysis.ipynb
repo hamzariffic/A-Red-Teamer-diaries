{
  "nbformat": 4,
  "nbformat_minor": 0,
  "metadata": {
    "colab": {
      "private_outputs": true,
      "provenance": [],
      "gpuType": "T4",
      "authorship_tag": "ABX9TyNvjqVKn5T1OFQ0tNUZl5Mv",
      "include_colab_link": true
    },
    "kernelspec": {
      "name": "python3",
      "display_name": "Python 3"
    },
    "language_info": {
      "name": "python"
    },
    "accelerator": "GPU"
  },
  "cells": [
    {
      "cell_type": "markdown",
      "metadata": {
        "id": "view-in-github",
        "colab_type": "text"
      },
      "source": [
        "<a href=\"https://colab.research.google.com/github/hamzariffic/A-Red-Teamer-diaries/blob/master/Franchises_Analysis.ipynb\" target=\"_parent\"><img src=\"https://colab.research.google.com/assets/colab-badge.svg\" alt=\"Open In Colab\"/></a>"
      ]
    },
    {
      "cell_type": "markdown",
      "source": [],
      "metadata": {
        "id": "tLHwaL2ModOs"
      }
    },
    {
      "cell_type": "markdown",
      "source": [
        "# Loading the dataset"
      ],
      "metadata": {
        "id": "0aGPV-1-u7ZJ"
      }
    },
    {
      "cell_type": "code",
      "source": [
        "import pandas as pd\n",
        "\n",
        "# Loading the Franchises dataset\n",
        "data = pd.read_excel('/content/Franchises Dataset.xlsx')"
      ],
      "metadata": {
        "id": "Px4SMwSPqoiq"
      },
      "execution_count": null,
      "outputs": []
    },
    {
      "cell_type": "markdown",
      "source": [
        "# Checking for data description and if there is any missing value"
      ],
      "metadata": {
        "id": "SRfR3cxwu-yD"
      }
    },
    {
      "cell_type": "code",
      "source": [
        "data.info()"
      ],
      "metadata": {
        "id": "CF841AZHs5ML"
      },
      "execution_count": null,
      "outputs": []
    },
    {
      "cell_type": "code",
      "source": [
        "data.describe()"
      ],
      "metadata": {
        "id": "sFifUBJStqSN"
      },
      "execution_count": null,
      "outputs": []
    },
    {
      "cell_type": "markdown",
      "source": [
        "# Decision Tree model for net profit"
      ],
      "metadata": {
        "id": "R0NdBEgovHDe"
      }
    },
    {
      "cell_type": "code",
      "source": [
        "import pandas as pd\n",
        "from sklearn.model_selection import train_test_split\n",
        "from sklearn.tree import DecisionTreeRegressor\n",
        "from sklearn.preprocessing import LabelEncoder\n",
        "from sklearn.metrics import mean_squared_error, r2_score\n",
        "\n",
        "# No missing values have been deteced, but here's how to check for missing values and dropping them\n",
        "print(data.isnull().sum())\n",
        "data = data.dropna()\n",
        "\n",
        "# Encoding categorical variables\n",
        "le = LabelEncoder()\n",
        "data['Business Type'] = le.fit_transform(data['Business Type'])\n",
        "data['Location '] = le.fit_transform(data['Location '])\n",
        "\n",
        "# Feature Selection\n",
        "features = ['Counter Sales', 'Drive-through Sales', 'number of customers', 'Business Type', 'Location ']\n",
        "target = 'Net Profit'\n",
        "\n",
        "X = data[features]\n",
        "y = data[target]\n",
        "\n",
        "# Model Development starting with splitting of data\n",
        "X_train, X_test, y_train, y_test = train_test_split(X, y, test_size=0.2, random_state=42)\n",
        "\n",
        "# Training set of the Franchises model\n",
        "dt_model = DecisionTreeRegressor(random_state=42)\n",
        "dt_model.fit(X_train, y_train)\n",
        "\n",
        "# Model Evaluation\n",
        "y_pred = dt_model.predict(X_test)\n",
        "\n",
        "# Calculating MSE\n",
        "mse = mean_squared_error(y_test, y_pred)\n",
        "print(f\"Mean Squared Error: {mse}\")\n",
        "\n",
        "# Calculating R-squared\n",
        "r2 = r2_score(y_test, y_pred)\n",
        "print(f\"R-squared Score: {r2}\")\n",
        "\n",
        "# Calculating accuracy (as a percentage of R-squared)\n",
        "accuracy = r2 * 100\n",
        "print(f\"Model Accuracy: {accuracy:.2f}%\")"
      ],
      "metadata": {
        "id": "9lK1AyntrCfN"
      },
      "execution_count": null,
      "outputs": []
    },
    {
      "cell_type": "markdown",
      "source": [
        "# Simulating and visualizing impacts"
      ],
      "metadata": {
        "id": "7c0a82TfwgMD"
      }
    },
    {
      "cell_type": "code",
      "source": [
        "import pandas as pd\n",
        "import numpy as np\n",
        "from sklearn.tree import DecisionTreeRegressor, plot_tree\n",
        "import matplotlib.pyplot as plt\n",
        "from sklearn.preprocessing import LabelEncoder\n",
        "\n",
        "# Simulating the dataset based on the information provided\n",
        "np.random.seed(42)\n",
        "n_samples = 1000\n",
        "\n",
        "data = pd.DataFrame({\n",
        "    'Counter_Sales': np.random.uniform(0, 100, n_samples),\n",
        "    'Drive_through_Sales': np.random.uniform(0, 100, n_samples),\n",
        "    'Number_of_Customers': np.random.randint(0, 500, n_samples),\n",
        "    'Business_Type': np.random.choice(['Fast Food', 'Casual Dining', 'Fine Dining'], n_samples),\n",
        "    'Location': np.random.choice(['Urban', 'Suburban', 'Rural'], n_samples)\n",
        "})\n",
        "\n",
        "# Simulating Net Profit based on other features\n",
        "data['Net_Profit'] = (\n",
        "    0.3 * data['Counter_Sales'] +\n",
        "    0.4 * data['Drive_through_Sales'] +\n",
        "    0.1 * data['Number_of_Customers'] +\n",
        "    np.random.normal(0, 0.1, n_samples)  # Adding some noise\n",
        ")\n",
        "\n",
        "# Adjusting Net Profit based on Business Type and Location\n",
        "data.loc[data['Business_Type'] == 'Fast Food', 'Net_Profit'] *= 1.2\n",
        "data.loc[data['Business_Type'] == 'Fine Dining', 'Net_Profit'] *= 1.5\n",
        "data.loc[data['Location'] == 'Urban', 'Net_Profit'] *= 1.3\n",
        "data.loc[data['Location'] == 'Rural', 'Net_Profit'] *= 0.8\n",
        "\n",
        "# Encoding categorical variables\n",
        "le = LabelEncoder()\n",
        "data['Business_Type'] = le.fit_transform(data['Business_Type'])\n",
        "data['Location'] = le.fit_transform(data['Location'])\n",
        "\n",
        "# Prepare features and target\n",
        "features = ['Counter_Sales', 'Drive_through_Sales', 'Number_of_Customers', 'Business_Type', 'Location']\n",
        "X = data[features]\n",
        "y = data['Net_Profit']\n",
        "\n",
        "# Create and fit the model\n",
        "dt_model = DecisionTreeRegressor(random_state=42)\n",
        "dt_model.fit(X, y)\n",
        "\n",
        "# Visualize the decision tree\n",
        "plt.figure(figsize=(20,10))\n",
        "plot_tree(dt_model, feature_names=features, filled=True, rounded=True, fontsize=10)\n",
        "plt.title(\"Decision Tree for Net Profit Prediction\")\n",
        "plt.show()\n",
        "\n",
        "# Feature importance\n",
        "importance = dt_model.feature_importances_\n",
        "for i, v in enumerate(importance):\n",
        "    print(f'Feature: {features[i]}, Score: {v}')\n",
        "\n",
        "# Partial dependence plots\n",
        "from sklearn.inspection import PartialDependenceDisplay\n",
        "\n",
        "fig, ax = plt.subplots(figsize=(12, 8))\n",
        "display = PartialDependenceDisplay.from_estimator(dt_model, X, features, ax=ax)\n",
        "plt.show()"
      ],
      "metadata": {
        "id": "N5v5yKsRvUEf"
      },
      "execution_count": null,
      "outputs": []
    },
    {
      "cell_type": "markdown",
      "source": [
        "# Developing Random Forest Prediction Model For Franchises Dataset"
      ],
      "metadata": {
        "id": "bWaqsmiIwuh4"
      }
    },
    {
      "cell_type": "code",
      "source": [
        "data.head()"
      ],
      "metadata": {
        "id": "E_XB4X5axuRB"
      },
      "execution_count": null,
      "outputs": []
    },
    {
      "cell_type": "code",
      "source": [
        "import pandas as pd\n",
        "import numpy as np\n",
        "from sklearn.model_selection import train_test_split\n",
        "from sklearn.ensemble import RandomForestRegressor\n",
        "from sklearn.metrics import mean_squared_error, r2_score\n",
        "from sklearn.preprocessing import LabelEncoder\n",
        "import matplotlib.pyplot as plt\n",
        "\n",
        "# Loading the Franchises dataset again\n",
        "data = pd.read_excel('/content/Franchises Dataset.xlsx')\n",
        "\n",
        "# Preparing the features and target\n",
        "features = ['Counter_Sales', 'Drive_through_Sales', 'Number_of_Customers', 'Business_Type', 'Location']\n",
        "target = 'Net Profit'\n",
        "\n",
        "# Splitting the data into training and testing sets\n",
        "X_train, X_test, y_train, y_test = train_test_split(X, y, test_size=0.2, random_state=42)\n",
        "\n",
        "# Creating and training the Random Forest model\n",
        "rf_model = RandomForestRegressor(n_estimators=100, random_state=42)\n",
        "rf_model.fit(X_train, y_train)\n",
        "\n",
        "# Predictions on the test set\n",
        "y_pred = rf_model.predict(X_test)\n",
        "\n",
        "# MSE and R-squared\n",
        "mse = mean_squared_error(y_test, y_pred)\n",
        "r2 = r2_score(y_test, y_pred)\n",
        "\n",
        "print(f\"Mean Squared Error: {mse}\")\n",
        "print(f\"R-squared Score: {r2}\")\n",
        "print(f\"Model Accuracy: {r2 * 100:.2f}%\")\n",
        "\n",
        "# Feature importance\n",
        "importance = rf_model.feature_importances_\n",
        "for i, v in enumerate(importance):\n",
        "    print(f'Feature: {features[i]}, Score: {v}')\n",
        "\n",
        "# Visualize feature importance\n",
        "plt.figure(figsize=(10, 6))\n",
        "plt.bar([x for x in range(len(importance))], importance)\n",
        "plt.xticks(range(len(features)), features, rotation=45)\n",
        "plt.xlabel('Features')\n",
        "plt.ylabel('Importance')\n",
        "plt.title('Feature Importance in Random Forest Model')\n",
        "plt.tight_layout()\n",
        "plt.show()\n",
        "\n",
        "# Partial dependence plots\n",
        "from sklearn.inspection import PartialDependenceDisplay\n",
        "\n",
        "fig, ax = plt.subplots(figsize=(12, 8))\n",
        "display = PartialDependenceDisplay.from_estimator(rf_model, X_test, features, ax=ax)\n",
        "plt.show()"
      ],
      "metadata": {
        "id": "e-HjZMWDwtCQ"
      },
      "execution_count": null,
      "outputs": []
    },
    {
      "cell_type": "markdown",
      "source": [
        "# Simulating the Model Parameters, and visualizing then interpretting"
      ],
      "metadata": {
        "id": "86PJStVS0SC_"
      }
    },
    {
      "cell_type": "code",
      "source": [
        "import pandas as pd\n",
        "import numpy as np\n",
        "from sklearn.model_selection import train_test_split, RandomizedSearchCV\n",
        "from sklearn.ensemble import RandomForestRegressor\n",
        "from sklearn.metrics import mean_squared_error, r2_score\n",
        "from sklearn.preprocessing import LabelEncoder\n",
        "import matplotlib.pyplot as plt\n",
        "from sklearn.inspection import PartialDependenceDisplay\n",
        "\n",
        "# Simulating the dataset (as before)\n",
        "np.random.seed(42)\n",
        "n_samples = 1000\n",
        "\n",
        "data = pd.DataFrame({\n",
        "    'Counter_Sales': np.random.uniform(0, 100, n_samples),\n",
        "    'Drive_through_Sales': np.random.uniform(0, 100, n_samples),\n",
        "    'Number_of_Customers': np.random.randint(0, 500, n_samples),\n",
        "    'Business_Type': np.random.choice(['Burger store', 'Pizza Store', 'Café'], n_samples),\n",
        "    'Location': np.random.choice(['Urban', 'Suburban', 'Rural'], n_samples)\n",
        "})\n",
        "\n",
        "# Simulating Net Profit\n",
        "data['Net_Profit'] = (\n",
        "    0.3 * data['Counter_Sales'] +\n",
        "    0.4 * data['Drive_through_Sales'] +\n",
        "    0.1 * data['Number_of_Customers'] +\n",
        "    np.random.normal(0, 0.1, n_samples)\n",
        ")\n",
        "data.loc[data['Business_Type'] == 'Burger store', 'Net_Profit'] *= 1.2\n",
        "data.loc[data['Business_Type'] == 'Café', 'Net_Profit'] *= 1.5\n",
        "data.loc[data['Location'] == 'Urban', 'Net_Profit'] *= 1.3\n",
        "data.loc[data['Location'] == 'Rural', 'Net_Profit'] *= 0.8\n",
        "\n",
        "# Encoding categorical variables\n",
        "le = LabelEncoder()\n",
        "data['Business_Type'] = le.fit_transform(data['Business_Type'])\n",
        "data['Location'] = le.fit_transform(data['Location'])\n",
        "\n",
        "# Prepare features and target\n",
        "features = ['Counter_Sales', 'Drive_through_Sales', 'Number_of_Customers', 'Business_Type', 'Location']\n",
        "X = data[features]\n",
        "y = data['Net_Profit']\n",
        "\n",
        "# Split the data\n",
        "X_train, X_test, y_train, y_test = train_test_split(X, y, test_size=0.2, random_state=42)\n",
        "\n",
        "# Define the parameter grid for RandomizedSearchCV\n",
        "param_grid = {\n",
        "    'n_estimators': [100, 200, 300],\n",
        "    'max_depth': [10, 20, 30, None],\n",
        "    'min_samples_split': [2, 5, 10],\n",
        "    'min_samples_leaf': [1, 2, 4]\n",
        "}\n",
        "\n",
        "# Create and fit RandomizedSearchCV\n",
        "rf = RandomForestRegressor(random_state=42)\n",
        "random_search = RandomizedSearchCV(estimator=rf, param_distributions=param_grid,\n",
        "                                   n_iter=20, cv=5, random_state=42, n_jobs=-1)\n",
        "random_search.fit(X_train, y_train)\n",
        "\n",
        "# Get the best model\n",
        "best_rf = random_search.best_estimator_\n",
        "\n",
        "# Make predictions and evaluate\n",
        "y_pred = best_rf.predict(X_test)\n",
        "mse = mean_squared_error(y_test, y_pred)\n",
        "r2 = r2_score(y_test, y_pred)\n",
        "\n",
        "print(f\"Best parameters: {random_search.best_params_}\")\n",
        "print(f\"Mean Squared Error: {mse}\")\n",
        "print(f\"R-squared Score: {r2}\")\n",
        "print(f\"Model Accuracy: {r2 * 100:.2f}%\")\n",
        "\n",
        "# Feature importance\n",
        "importance = best_rf.feature_importances_\n",
        "for i, v in enumerate(importance):\n",
        "    print(f'Feature: {features[i]}, Score: {v}')\n",
        "\n",
        "# Visualize feature importance\n",
        "plt.figure(figsize=(10, 6))\n",
        "plt.bar([x for x in range(len(importance))], importance)\n",
        "plt.xticks(range(len(features)), features, rotation=45)\n",
        "plt.xlabel('Features')\n",
        "plt.ylabel('Importance')\n",
        "plt.title('Feature Importance in Random Forest Model')\n",
        "plt.tight_layout()\n",
        "plt.show()\n",
        "\n",
        "# Partial dependence plots\n",
        "fig, ax = plt.subplots(figsize=(15, 10))\n",
        "display = PartialDependenceDisplay.from_estimator(best_rf, X_test, features, ax=ax)\n",
        "plt.tight_layout()\n",
        "plt.show()"
      ],
      "metadata": {
        "id": "ar88ii530czo"
      },
      "execution_count": null,
      "outputs": []
    },
    {
      "cell_type": "markdown",
      "source": [
        "# Predicting with both models"
      ],
      "metadata": {
        "id": "Vexn3bA54J0D"
      }
    },
    {
      "cell_type": "code",
      "source": [
        "import pandas as pd\n",
        "import numpy as np\n",
        "from sklearn.tree import DecisionTreeRegressor\n",
        "from sklearn.ensemble import RandomForestRegressor\n",
        "from sklearn.preprocessing import LabelEncoder\n",
        "\n",
        "# Recreate the simulated dataset (simplified version)\n",
        "np.random.seed(42)\n",
        "n_samples = 1000\n",
        "\n",
        "data = pd.DataFrame({\n",
        "    'Counter_Sales': np.random.uniform(0, 1000000, n_samples),\n",
        "    'Drive_through_Sales': np.random.uniform(0, 1000000, n_samples),\n",
        "    'Number_of_Customers': np.random.randint(0, 5000, n_samples),\n",
        "    'Business_Type': np.random.choice(['Fast Food', 'Casual Dining', 'Fine Dining', 'Pizza'], n_samples),\n",
        "    'Location': np.random.choice(['Urban', 'Suburban', 'Rural'], n_samples)\n",
        "})\n",
        "\n",
        "# Simulating Net Profit (simplified)\n",
        "data['Net_Profit'] = (\n",
        "    0.3 * data['Counter_Sales'] +\n",
        "    0.4 * data['Drive_through_Sales'] +\n",
        "    0.1 * data['Number_of_Customers'] * 100 +\n",
        "    np.random.normal(0, 100000, n_samples)\n",
        ")\n",
        "\n",
        "# Encoding categorical variables\n",
        "le_business = LabelEncoder()\n",
        "le_location = LabelEncoder()\n",
        "data['Business_Type'] = le_business.fit_transform(data['Business_Type'])\n",
        "data['Location'] = le_location.fit_transform(data['Location'])\n",
        "\n",
        "# Prepare features and target\n",
        "features = ['Counter_Sales', 'Drive_through_Sales', 'Number_of_Customers', 'Business_Type', 'Location']\n",
        "X = data[features]\n",
        "y = data['Net_Profit']\n",
        "\n",
        "# Train Decision Tree model\n",
        "dt_model = DecisionTreeRegressor(random_state=42)\n",
        "dt_model.fit(X, y)\n",
        "\n",
        "# Train Random Forest model\n",
        "rf_model = RandomForestRegressor(n_estimators=100, random_state=42)\n",
        "rf_model.fit(X, y)\n",
        "\n",
        "# Prepare the new data point\n",
        "new_data = pd.DataFrame({\n",
        "    'Counter_Sales': [500000],\n",
        "    'Drive_through_Sales': [700000],\n",
        "    'Number_of_Customers': [0],  # We don't have this information, so we'll use 0\n",
        "    'Business_Type': le_business.transform(['Pizza']),\n",
        "    'Location': le_location.transform(['Urban'])  # Assuming Richmond is considered urban\n",
        "})\n",
        "\n",
        "# Make predictions\n",
        "dt_prediction = dt_model.predict(new_data)[0]\n",
        "rf_prediction = rf_model.predict(new_data)[0]\n",
        "\n",
        "print(f\"Decision Tree Prediction: ${dt_prediction:.2f}\")\n",
        "print(f\"Random Forest Prediction: ${rf_prediction:.2f}\")"
      ],
      "metadata": {
        "id": "Hcho91uo4Oaj"
      },
      "execution_count": null,
      "outputs": []
    }
  ]
}